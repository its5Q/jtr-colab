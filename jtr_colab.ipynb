{
  "nbformat": 4,
  "nbformat_minor": 0,
  "metadata": {
    "colab": {
      "name": "JtR_colab.ipynb",
      "provenance": [],
      "collapsed_sections": [
        "qXjo6sNdzX3W",
        "phntDvLu3Lgp"
      ],
      "authorship_tag": "ABX9TyOSUTven1fjUB7ZLYVaZNF8",
      "include_colab_link": true
    },
    "kernelspec": {
      "name": "python3",
      "display_name": "Python 3"
    },
    "language_info": {
      "name": "python"
    }
  },
  "cells": [
    {
      "cell_type": "markdown",
      "metadata": {
        "id": "view-in-github",
        "colab_type": "text"
      },
      "source": [
        "<a href=\"https://colab.research.google.com/github/its5Q/jtr-colab/blob/main/jtr_colab.ipynb\" target=\"_parent\"><img src=\"https://colab.research.google.com/assets/colab-badge.svg\" alt=\"Open In Colab\"/></a>"
      ]
    },
    {
      "cell_type": "markdown",
      "metadata": {
        "id": "qXjo6sNdzX3W"
      },
      "source": [
        "# Скачиваем и компилируем John The Ripper\n"
      ]
    },
    {
      "cell_type": "code",
      "metadata": {
        "id": "olqMl-7wxy6J"
      },
      "source": [
        "!git clone https://github.com/openwall/john.git"
      ],
      "execution_count": null,
      "outputs": []
    },
    {
      "cell_type": "code",
      "metadata": {
        "id": "X1F4IMBizKaE"
      },
      "source": [
        "cd /content/john/src/"
      ],
      "execution_count": null,
      "outputs": []
    },
    {
      "cell_type": "code",
      "metadata": {
        "id": "2ggE7qJr0amd"
      },
      "source": [
        "!./configure && make -s clean && make -sj4"
      ],
      "execution_count": null,
      "outputs": []
    },
    {
      "cell_type": "code",
      "metadata": {
        "id": "7WPE2fCL2Fe2"
      },
      "source": [
        "cd /content/john/run/"
      ],
      "execution_count": null,
      "outputs": []
    },
    {
      "cell_type": "markdown",
      "metadata": {
        "id": "phntDvLu3Lgp"
      },
      "source": [
        "# Скачиваем старые словари от 5Q"
      ]
    },
    {
      "cell_type": "code",
      "metadata": {
        "id": "oybF1ZvVCIgx"
      },
      "source": [
        "!wget https://siasky.net/KAAqJEyTtKdR4JqwlTl9yYxnwnukEIRtAS3rQnOSXWcaag -O dictionary.zip\n",
        "!unzip dictionary.zip"
      ],
      "execution_count": null,
      "outputs": []
    },
    {
      "cell_type": "markdown",
      "metadata": {
        "id": "kcBL88tUD1QJ"
      },
      "source": [
        "# Запуск брута"
      ]
    },
    {
      "cell_type": "code",
      "metadata": {
        "id": "7FpMXfN2Ti84",
        "cellView": "form"
      },
      "source": [
        "#@title Запуск брута { vertical-output: true }\n",
        "\n",
        "hash_digest = 'Вставьте сюда хеш' #@param Хеш {type:\"string\"}\n",
        "hash_type = 'Authme' #@param Тип хеша [\"Authme\", \"bcrypt\", \"MD5\"]\n",
        "\n",
        "import os\n",
        "\n",
        "if hash_type == 'Authme':\n",
        "  hash_digest = f'$dynamic_1503${hash_digest[22:]}${hash_digest[5:21]}'\n",
        "  hash_format = 'dynamic_1503'\n",
        "elif hash_type == 'bcrypt':\n",
        "  hash_format = 'bcrypt'\n",
        "elif hash_type == 'MD5':\n",
        "  hash_format = 'raw-md5'\n",
        "\n",
        "with open('hash.txt', 'w', errors='ignore') as ofile:\n",
        "  ofile.write(hash_digest)\n",
        "\n",
        "print(f'Запускаем брут хеша {hash_digest}')\n",
        "\n",
        "try:\n",
        "  os.remove('john.pot')\n",
        "except:\n",
        "  pass\n",
        "\n",
        "os.system(f'./john --format={hash_format} --wordlist=./ultra_sha2.dic \"hash.txt\"')\n",
        "\n",
        "print('Брут завершен!')\n",
        "with open('john.pot', 'r', errors='ignore') as potfile:\n",
        "  pot = [line.strip() for line in potfile]\n",
        "if not pot:\n",
        "  print('Пароль не найден')\n",
        "else:\n",
        "  print(f'Пароль: {pot[0].partition(\":\")[2]}')"
      ],
      "execution_count": null,
      "outputs": []
    }
  ]
}